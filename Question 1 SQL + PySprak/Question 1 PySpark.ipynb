{
 "cells": [
  {
   "cell_type": "markdown",
   "metadata": {},
   "source": [
    "### We first set up PySpark"
   ]
  },
  {
   "cell_type": "code",
   "execution_count": 1,
   "metadata": {},
   "outputs": [],
   "source": [
    "import findspark\n",
    "findspark.init()\n",
    "\n",
    "import pyspark\n",
    "from pyspark import SparkContext, SparkConf\n",
    "from pyspark.sql import SparkSession\n",
    "from pyspark.sql import functions as F \n",
    "\n",
    "conf = pyspark.SparkConf().setAppName('appName').setMaster('local')\n",
    "sc = pyspark.SparkContext(conf=conf)\n",
    "spark = SparkSession(sc)"
   ]
  },
  {
   "cell_type": "markdown",
   "metadata": {},
   "source": [
    "### We set up the tables as dataframes and output them"
   ]
  },
  {
   "cell_type": "code",
   "execution_count": 2,
   "metadata": {
    "scrolled": true
   },
   "outputs": [
    {
     "name": "stdout",
     "output_type": "stream",
     "text": [
      "Clicks dataframe 'Clicks':\n",
      "+-------+---+\n",
      "|eventid|cpc|\n",
      "+-------+---+\n",
      "|      0|  5|\n",
      "|      1|  2|\n",
      "|      2|  3|\n",
      "|      3|  1|\n",
      "|      4| 12|\n",
      "|      5|  7|\n",
      "+-------+---+\n",
      "\n",
      "Impressions dataframe 'Impressions':\n",
      "+-------+------+---------+\n",
      "|eventid|userid|testgroup|\n",
      "+-------+------+---------+\n",
      "|      0|     1|        A|\n",
      "|      1|     1|        A|\n",
      "|      2|     2|        B|\n",
      "|      3|     2|        B|\n",
      "|      4|     3|        A|\n",
      "|      5|     3|        B|\n",
      "|      6|     2|        B|\n",
      "|      8|     4|        A|\n",
      "|      9|     3|        A|\n",
      "|     10|     4|        A|\n",
      "|     11|     5|        B|\n",
      "|     12|     6|        A|\n",
      "|     13|     6|        B|\n",
      "+-------+------+---------+\n",
      "\n"
     ]
    }
   ],
   "source": [
    "# We create a dataframe for Clicks, containing eventid and cpc\n",
    "# And we insert some mock-up data (and assume eventid is unique)\n",
    "\n",
    "Clicks = spark.createDataFrame(\n",
    "    sc.parallelize([\n",
    "    (0, 5),\n",
    "    (1, 2),\n",
    "    (2, 3),\n",
    "    (3, 1),\n",
    "    (4, 12),\n",
    "    (5, 7)]), \n",
    "    ['eventid', 'cpc']\n",
    ")\n",
    "\n",
    "# We create a dataframe for Impressions, containing eventid, userid and testgroup\n",
    "# We insert some mock-up data\n",
    "# We also assume a user can be in multiple testgroups (see rows with userid = 3)\n",
    "# We assume there can be more impressions than clicks\n",
    "Impressions = spark.createDataFrame(\n",
    "    sc.parallelize([\n",
    "    (0, 1, 'A'),\n",
    "    (1, 1, 'A'),      \n",
    "    (2, 2, 'B'),\n",
    "    (3, 2, 'B'),\n",
    "    (4, 3, 'A'),\n",
    "    (5, 3, 'B'),\n",
    "    (6, 2, 'B'),\n",
    "    (8, 4, 'A'),\n",
    "    (9, 3, 'A'),\n",
    "    (10, 4, 'A'),\n",
    "    (11, 5, 'B'),\n",
    "    (12, 6, 'A'),\n",
    "    (13, 6, 'B')]),\n",
    "    ['eventid', 'userid', 'testgroup']\n",
    ")\n",
    "print(\"Clicks dataframe 'Clicks':\")\n",
    "Clicks.show()\n",
    "print(\"Impressions dataframe 'Impressions':\")\n",
    "Impressions.show()"
   ]
  },
  {
   "cell_type": "markdown",
   "metadata": {},
   "source": [
    "### We join the two tables through an inner join and a left join. We will use this later on. We output them again to know what they look like. "
   ]
  },
  {
   "cell_type": "code",
   "execution_count": 3,
   "metadata": {
    "scrolled": true
   },
   "outputs": [
    {
     "name": "stdout",
     "output_type": "stream",
     "text": [
      "Inner joined dataframe 'df_inner_join':\n",
      "+-------+------+---------+---+\n",
      "|eventid|userid|testgroup|cpc|\n",
      "+-------+------+---------+---+\n",
      "|      0|     1|        A|  5|\n",
      "|      1|     1|        A|  2|\n",
      "|      2|     2|        B|  3|\n",
      "|      3|     2|        B|  1|\n",
      "|      4|     3|        A| 12|\n",
      "|      5|     3|        B|  7|\n",
      "+-------+------+---------+---+\n",
      "\n",
      "Left joined dataframe 'df_left_join':\n",
      "+-------+------+---------+---+\n",
      "|eventid|userid|testgroup|cpc|\n",
      "+-------+------+---------+---+\n",
      "|      0|     1|        A|  5|\n",
      "|      1|     1|        A|  2|\n",
      "|      2|     2|        B|  3|\n",
      "|      3|     2|        B|  1|\n",
      "|      4|     3|        A| 12|\n",
      "|      5|     3|        B|  7|\n",
      "|      6|     2|        B|  0|\n",
      "|      8|     4|        A|  0|\n",
      "|      9|     3|        A|  0|\n",
      "|     10|     4|        A|  0|\n",
      "|     11|     5|        B|  0|\n",
      "|     12|     6|        A|  0|\n",
      "|     13|     6|        B|  0|\n",
      "+-------+------+---------+---+\n",
      "\n"
     ]
    }
   ],
   "source": [
    "df_inner_join = Impressions.join(Clicks, ['eventid'], 'inner').orderBy('eventid')\n",
    "print(\"Inner joined dataframe 'df_inner_join':\")\n",
    "df_inner_join.show()\n",
    "\n",
    "# We add .na.fill(0) which replaces the null values from the left join with 0's\n",
    "df_left_join = Impressions.join(Clicks, ['eventid'], 'left').na.fill(0).orderBy('eventid')\n",
    "print(\"Left joined dataframe 'df_left_join':\")\n",
    "df_left_join.show()"
   ]
  },
  {
   "cell_type": "markdown",
   "metadata": {},
   "source": [
    "### We output the Click-Through Rate (CTR) per user of each test group (‘A’ and ‘B’)\n",
    "- We assume that CTR is defined as total number of clicks divided by the total number of impressions of each user in each testgroup"
   ]
  },
  {
   "cell_type": "code",
   "execution_count": 4,
   "metadata": {
    "scrolled": false
   },
   "outputs": [
    {
     "name": "stdout",
     "output_type": "stream",
     "text": [
      "Click-Through Rate per user of each test group dataframe 'df_user_CTR_pergroup':\n",
      "+------+---------+--------------------+-------------------------+------------------+\n",
      "|userid|testgroup|user_clicks_pergroup|user_impressions_pergroup| user_CTR_pergroup|\n",
      "+------+---------+--------------------+-------------------------+------------------+\n",
      "|     1|        A|                   2|                        2|               1.0|\n",
      "|     2|        B|                   2|                        3|0.6666666666666666|\n",
      "|     3|        A|                   1|                        2|               0.5|\n",
      "|     3|        B|                   1|                        1|               1.0|\n",
      "|     4|        A|                   0|                        2|               0.0|\n",
      "|     5|        B|                   0|                        1|               0.0|\n",
      "|     6|        A|                   0|                        1|               0.0|\n",
      "|     6|        B|                   0|                        1|               0.0|\n",
      "+------+---------+--------------------+-------------------------+------------------+\n",
      "\n"
     ]
    }
   ],
   "source": [
    "# We first create a dataframe with columns userid and testgroup from the df_inner_join\n",
    "# We add an additional column counting each distinct userid, resulting into user_clicks_pergroup\n",
    "df_user_CTR_pergroup_1 = df_inner_join.select('userid', 'testgroup').orderBy('userid')\n",
    "df_user_CTR_pergroup_1 = df_user_CTR_pergroup_1.groupBy('userid', 'testgroup').agg(F.count('userid').alias('user_clicks_pergroup'))\n",
    "\n",
    "# We then create a dataframe with columns userid and testgroup from the df_left_join\n",
    "# We add an additional column counting each distinct userid, resulting into user_impressions_pergroup\n",
    "df_user_CTR_pergroup_2 = df_left_join.select('userid', 'testgroup').orderBy('userid')\n",
    "df_user_CTR_pergroup_2 = df_user_CTR_pergroup_2.groupBy('userid', 'testgroup').agg(F.count('userid').alias('user_impressions_pergroup'))\n",
    "\n",
    "# We join the two dataframes through a left join and fill all null values with 0's\n",
    "df_user_CTR_pergroup = df_user_CTR_pergroup_2.join(df_user_CTR_pergroup_1, ['userid', 'testgroup'], 'left').na.fill(0)\n",
    "# We add an additional column calculating the user_CTR_pergroup\n",
    "df_user_CTR_pergroup = df_user_CTR_pergroup.withColumn('user_CTR_pergroup', (F.col('user_clicks_pergroup') / F.col('user_impressions_pergroup')))\n",
    "# We sort the columns so they are the same as in the SQL output and output the dataframe\n",
    "print(\"Click-Through Rate per user of each test group dataframe 'df_user_CTR_pergroup':\")\n",
    "df_user_CTR_pergroup.select('userid', 'testgroup', 'user_clicks_pergroup', 'user_impressions_pergroup', 'user_CTR_pergroup').orderBy('userid', 'testgroup').show()"
   ]
  },
  {
   "cell_type": "markdown",
   "metadata": {},
   "source": [
    "### We output the average Revenue per user of each test group (‘A’ and ‘B’)\n",
    "- Revenue was not defined in the exercise, so we assume the total revenue is equal to the total cpc\n",
    "- We assume average revenue (per user of each test group) is equal to the total cpc (per user of each test group) divided by number of impressions (per user of each test group)"
   ]
  },
  {
   "cell_type": "code",
   "execution_count": 5,
   "metadata": {},
   "outputs": [
    {
     "name": "stdout",
     "output_type": "stream",
     "text": [
      "Average Cost Per Click per user of each test group dataframe 'df_user_CTR_pergroup':\n",
      "+------+---------+---------------------+\n",
      "|userid|testgroup|user_avg_cpc_pergroup|\n",
      "+------+---------+---------------------+\n",
      "|     1|        A|                  3.5|\n",
      "|     2|        B|   1.3333333333333333|\n",
      "|     3|        A|                  6.0|\n",
      "|     3|        B|                  7.0|\n",
      "|     4|        A|                  0.0|\n",
      "|     5|        B|                  0.0|\n",
      "|     6|        A|                  0.0|\n",
      "|     6|        B|                  0.0|\n",
      "+------+---------+---------------------+\n",
      "\n"
     ]
    }
   ],
   "source": [
    "# We first create a dataframe with columns userid and testgroup from the df_inner_join\n",
    "df_user_avg_cpc_pergroup = df_left_join.select('eventid', 'userid', 'testgroup', 'cpc').orderBy('userid', 'testgroup', 'cpc')\n",
    "# We add an additional column and put in the average cpc per distinct userid and testgroup, resulting into user_avg_cpc_pergroup\n",
    "df_user_avg_cpc_pergroup = df_user_avg_cpc_pergroup.groupBy('userid', 'testgroup').agg(F.mean('cpc').alias('user_avg_cpc_pergroup'))\n",
    "print(\"Average Cost Per Click per user of each test group dataframe 'df_user_CTR_pergroup':\")\n",
    "# We sort the columns so they are the same as in the SQL output and output the dataframe\n",
    "df_user_avg_cpc_pergroup.orderBy('userid', 'testgroup').show()"
   ]
  },
  {
   "cell_type": "markdown",
   "metadata": {},
   "source": [
    "---------------------------------------------------------------------\n",
    "##### Some extra calculations I made, somewhat showing my step-by-step process and resulting in extra insights"
   ]
  },
  {
   "cell_type": "markdown",
   "metadata": {},
   "source": [
    "##### Click-Through Rate "
   ]
  },
  {
   "cell_type": "code",
   "execution_count": 6,
   "metadata": {},
   "outputs": [
    {
     "name": "stdout",
     "output_type": "stream",
     "text": [
      "+------------+-----------------+-------------------+\n",
      "|clicks_total|impressions_total|          CTR_total|\n",
      "+------------+-----------------+-------------------+\n",
      "|           6|               13|0.46153846153846156|\n",
      "+------------+-----------------+-------------------+\n",
      "\n"
     ]
    }
   ],
   "source": [
    "# Output of our total number of clicks and impressions and calculation of CTR \n",
    "df1 = spark.createDataFrame(\n",
    "    sc.parallelize([\n",
    "    (Clicks.count(), Impressions.count(), Clicks.count()/Impressions.count())\n",
    "    ]),\n",
    "    ['clicks_total', 'impressions_total', 'CTR_total']\n",
    ")\n",
    "\n",
    "df1.show()"
   ]
  },
  {
   "cell_type": "code",
   "execution_count": 7,
   "metadata": {},
   "outputs": [
    {
     "name": "stdout",
     "output_type": "stream",
     "text": [
      "+------+-----------------+----------------------+------------------+\n",
      "|userid|user_clicks_total|user_impressions_total| user_CTR_pergroup|\n",
      "+------+-----------------+----------------------+------------------+\n",
      "|     1|                2|                     2|               1.0|\n",
      "|     2|                2|                     3|0.6666666666666666|\n",
      "|     3|                2|                     3|0.6666666666666666|\n",
      "|     4|                0|                     2|               0.0|\n",
      "|     5|                0|                     1|               0.0|\n",
      "|     6|                0|                     2|               0.0|\n",
      "+------+-----------------+----------------------+------------------+\n",
      "\n"
     ]
    }
   ],
   "source": [
    "# Output of our number of clicks and impressions and calculation of CTR per user (so disregarding the testgroup)\n",
    "df_user_CTR_total_1 = df_inner_join.select('userid').orderBy('userid')\n",
    "df_user_CTR_total_1 = df_user_CTR_total_1.groupBy('userid').agg(F.count('userid').alias('user_clicks_total'))\n",
    "df_user_CTR_total_2 = df_left_join.select('userid').orderBy('userid')\n",
    "df_user_CTR_total_2 = df_user_CTR_total_2.groupBy('userid').agg(F.count('userid').alias('user_impressions_total'))\n",
    "\n",
    "df_user_CTR_total = df_user_CTR_total_2.join(df_user_CTR_total_1, ['userid'], 'left').na.fill(0)\n",
    "df_user_CTR_total = df_user_CTR_total.withColumn('user_CTR_pergroup', (F.col('user_clicks_total') / F.col('user_impressions_total')))\n",
    "df_user_CTR_total.select('userid', 'user_clicks_total', 'user_impressions_total', 'user_CTR_pergroup').orderBy('userid').show()"
   ]
  },
  {
   "cell_type": "code",
   "execution_count": 8,
   "metadata": {},
   "outputs": [
    {
     "name": "stdout",
     "output_type": "stream",
     "text": [
      "+---------+---------------+--------------------+-------------------+\n",
      "|testgroup|clicks_pergroup|impressions_pergroup|       CTR_pergroup|\n",
      "+---------+---------------+--------------------+-------------------+\n",
      "|        A|              3|                   7|0.42857142857142855|\n",
      "|        B|              3|                   6|                0.5|\n",
      "+---------+---------------+--------------------+-------------------+\n",
      "\n"
     ]
    }
   ],
   "source": [
    "# Output of our number of clicks and impressions and calculation of CTR per testgroup\n",
    "df_CTR_pergroup_1 = df_inner_join.select('testgroup').orderBy('testgroup')\n",
    "df_CTR_pergroup_1 = df_CTR_pergroup_1.groupBy('testgroup').agg(F.count('testgroup').alias('clicks_pergroup'))\n",
    "df_CTR_pergroup_2 = df_left_join.select('testgroup').orderBy('testgroup')\n",
    "df_CTR_pergroup_2 = df_CTR_pergroup_2.groupBy('testgroup').agg(F.count('testgroup').alias('impressions_pergroup'))\n",
    "df_CTR_pergroup = df_CTR_pergroup_2.join(df_CTR_pergroup_1, ['testgroup'], 'left').na.fill(0)\n",
    "df_CTR_pergroup = df_CTR_pergroup.withColumn('CTR_pergroup', (F.col('clicks_pergroup') / F.col('impressions_pergroup')))\n",
    "df_CTR_pergroup.select('testgroup', 'clicks_pergroup', 'impressions_pergroup', 'CTR_pergroup').orderBy('testgroup').show()"
   ]
  },
  {
   "cell_type": "markdown",
   "metadata": {},
   "source": [
    "##### Average Revenue"
   ]
  },
  {
   "cell_type": "code",
   "execution_count": 9,
   "metadata": {},
   "outputs": [
    {
     "data": {
      "text/plain": [
       "30"
      ]
     },
     "execution_count": 9,
     "metadata": {},
     "output_type": "execute_result"
    }
   ],
   "source": [
    "# The total cpc\n",
    "Clicks.groupBy().sum().collect()[0][1]"
   ]
  },
  {
   "cell_type": "code",
   "execution_count": 10,
   "metadata": {
    "scrolled": false
   },
   "outputs": [
    {
     "name": "stdout",
     "output_type": "stream",
     "text": [
      "+------+------------------+\n",
      "|userid|      user_avg_cpc|\n",
      "+------+------------------+\n",
      "|     1|               3.5|\n",
      "|     2|1.3333333333333333|\n",
      "|     3| 6.333333333333333|\n",
      "|     4|               0.0|\n",
      "|     5|               0.0|\n",
      "|     6|               0.0|\n",
      "+------+------------------+\n",
      "\n"
     ]
    }
   ],
   "source": [
    "# Output of the average cpc of each user (so disregarding the testgroup)\n",
    "df_user_avg_cpc = df_left_join.select('eventid', 'userid', 'testgroup', 'cpc').orderBy('userid', 'testgroup', 'cpc')\n",
    "df_user_avg_cpc = df_user_avg_cpc.groupBy('userid').agg(F.mean('cpc').alias('user_avg_cpc'))\n",
    "df_user_avg_cpc.orderBy('userid').show()"
   ]
  },
  {
   "cell_type": "code",
   "execution_count": 11,
   "metadata": {
    "scrolled": false
   },
   "outputs": [
    {
     "name": "stdout",
     "output_type": "stream",
     "text": [
      "+---------+------------------+\n",
      "|testgroup|     group_avg_cpc|\n",
      "+---------+------------------+\n",
      "|        A|2.7142857142857144|\n",
      "|        B|1.8333333333333333|\n",
      "+---------+------------------+\n",
      "\n"
     ]
    }
   ],
   "source": [
    "# We calculate the average cpc per test group\n",
    "df_group_avg_cpc = df_left_join.select('testgroup', 'cpc').orderBy('testgroup', 'cpc')\n",
    "df_group_avg_cpc.groupBy('testgroup').agg(F.mean('cpc').alias('group_avg_cpc')).orderBy('testgroup').show()"
   ]
  },
  {
   "cell_type": "code",
   "execution_count": null,
   "metadata": {},
   "outputs": [],
   "source": []
  }
 ],
 "metadata": {
  "kernelspec": {
   "display_name": "Python 3",
   "language": "python",
   "name": "python3"
  },
  "language_info": {
   "codemirror_mode": {
    "name": "ipython",
    "version": 3
   },
   "file_extension": ".py",
   "mimetype": "text/x-python",
   "name": "python",
   "nbconvert_exporter": "python",
   "pygments_lexer": "ipython3",
   "version": "3.7.1"
  }
 },
 "nbformat": 4,
 "nbformat_minor": 2
}
